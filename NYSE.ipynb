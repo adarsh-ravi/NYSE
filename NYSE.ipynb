{
 "cells": [
  {
   "cell_type": "code",
   "execution_count": null,
   "metadata": {},
   "outputs": [],
   "source": []
  },
  {
   "cell_type": "code",
   "execution_count": 1,
   "metadata": {},
   "outputs": [],
   "source": [
    "df_prices <- read.csv('prices-split-adjusted.csv')\n",
    "df_fundamentals <- read.csv('fundamentals.csv')"
   ]
  },
  {
   "cell_type": "code",
   "execution_count": 2,
   "metadata": {},
   "outputs": [
    {
     "data": {
      "text/html": [
       "<table>\n",
       "<thead><tr><th scope=col>date</th><th scope=col>symbol</th><th scope=col>open</th><th scope=col>close</th><th scope=col>low</th><th scope=col>high</th><th scope=col>volume</th></tr></thead>\n",
       "<tbody>\n",
       "\t<tr><td>2016-01-05</td><td>WLTW      </td><td>123.43    </td><td>125.84    </td><td>122.31    </td><td>126.25    </td><td>2163600   </td></tr>\n",
       "\t<tr><td>2016-01-06</td><td>WLTW      </td><td>125.24    </td><td>119.98    </td><td>119.94    </td><td>125.54    </td><td>2386400   </td></tr>\n",
       "\t<tr><td>2016-01-07</td><td>WLTW      </td><td>116.38    </td><td>114.95    </td><td>114.93    </td><td>119.74    </td><td>2489500   </td></tr>\n",
       "\t<tr><td>2016-01-08</td><td>WLTW      </td><td>115.48    </td><td>116.62    </td><td>113.50    </td><td>117.44    </td><td>2006300   </td></tr>\n",
       "\t<tr><td>2016-01-11</td><td>WLTW      </td><td>117.01    </td><td>114.97    </td><td>114.09    </td><td>117.33    </td><td>1408600   </td></tr>\n",
       "\t<tr><td>2016-01-12</td><td>WLTW      </td><td>115.51    </td><td>115.55    </td><td>114.50    </td><td>116.06    </td><td>1098000   </td></tr>\n",
       "</tbody>\n",
       "</table>\n"
      ],
      "text/latex": [
       "\\begin{tabular}{r|lllllll}\n",
       " date & symbol & open & close & low & high & volume\\\\\n",
       "\\hline\n",
       "\t 2016-01-05 & WLTW       & 123.43     & 125.84     & 122.31     & 126.25     & 2163600   \\\\\n",
       "\t 2016-01-06 & WLTW       & 125.24     & 119.98     & 119.94     & 125.54     & 2386400   \\\\\n",
       "\t 2016-01-07 & WLTW       & 116.38     & 114.95     & 114.93     & 119.74     & 2489500   \\\\\n",
       "\t 2016-01-08 & WLTW       & 115.48     & 116.62     & 113.50     & 117.44     & 2006300   \\\\\n",
       "\t 2016-01-11 & WLTW       & 117.01     & 114.97     & 114.09     & 117.33     & 1408600   \\\\\n",
       "\t 2016-01-12 & WLTW       & 115.51     & 115.55     & 114.50     & 116.06     & 1098000   \\\\\n",
       "\\end{tabular}\n"
      ],
      "text/markdown": [
       "\n",
       "| date | symbol | open | close | low | high | volume |\n",
       "|---|---|---|---|---|---|---|\n",
       "| 2016-01-05 | WLTW       | 123.43     | 125.84     | 122.31     | 126.25     | 2163600    |\n",
       "| 2016-01-06 | WLTW       | 125.24     | 119.98     | 119.94     | 125.54     | 2386400    |\n",
       "| 2016-01-07 | WLTW       | 116.38     | 114.95     | 114.93     | 119.74     | 2489500    |\n",
       "| 2016-01-08 | WLTW       | 115.48     | 116.62     | 113.50     | 117.44     | 2006300    |\n",
       "| 2016-01-11 | WLTW       | 117.01     | 114.97     | 114.09     | 117.33     | 1408600    |\n",
       "| 2016-01-12 | WLTW       | 115.51     | 115.55     | 114.50     | 116.06     | 1098000    |\n",
       "\n"
      ],
      "text/plain": [
       "  date       symbol open   close  low    high   volume \n",
       "1 2016-01-05 WLTW   123.43 125.84 122.31 126.25 2163600\n",
       "2 2016-01-06 WLTW   125.24 119.98 119.94 125.54 2386400\n",
       "3 2016-01-07 WLTW   116.38 114.95 114.93 119.74 2489500\n",
       "4 2016-01-08 WLTW   115.48 116.62 113.50 117.44 2006300\n",
       "5 2016-01-11 WLTW   117.01 114.97 114.09 117.33 1408600\n",
       "6 2016-01-12 WLTW   115.51 115.55 114.50 116.06 1098000"
      ]
     },
     "metadata": {},
     "output_type": "display_data"
    }
   ],
   "source": [
    "head(df_prices)"
   ]
  },
  {
   "cell_type": "code",
   "execution_count": 3,
   "metadata": {},
   "outputs": [
    {
     "data": {
      "text/plain": [
       "         date            symbol            open             close        \n",
       " 2016-07-05:   501   A      :  1762   Min.   :   1.66   Min.   :   1.59  \n",
       " 2016-07-06:   501   AAL    :  1762   1st Qu.:  31.27   1st Qu.:  31.29  \n",
       " 2016-07-07:   501   AAP    :  1762   Median :  48.46   Median :  48.48  \n",
       " 2016-07-08:   501   AAPL   :  1762   Mean   :  64.99   Mean   :  65.01  \n",
       " 2016-07-11:   501   ABC    :  1762   3rd Qu.:  75.12   3rd Qu.:  75.14  \n",
       " 2016-07-12:   501   ABT    :  1762   Max.   :1584.44   Max.   :1578.13  \n",
       " (Other)   :848258   (Other):840692                                      \n",
       "      low               high             volume         \n",
       " Min.   :   1.50   Min.   :   1.81   Min.   :        0  \n",
       " 1st Qu.:  30.94   1st Qu.:  31.62   1st Qu.:  1221500  \n",
       " Median :  47.97   Median :  48.96   Median :  2476250  \n",
       " Mean   :  64.34   Mean   :  65.64   Mean   :  5415113  \n",
       " 3rd Qu.:  74.40   3rd Qu.:  75.85   3rd Qu.:  5222500  \n",
       " Max.   :1549.94   Max.   :1600.93   Max.   :859643400  \n",
       "                                                        "
      ]
     },
     "metadata": {},
     "output_type": "display_data"
    }
   ],
   "source": [
    "summary(df_prices)"
   ]
  },
  {
   "cell_type": "code",
   "execution_count": 4,
   "metadata": {},
   "outputs": [
    {
     "data": {
      "image/png": "[encoded data removed]",
      "text/plain": [
       "plot without title"
      ]
     },
     "metadata": {},
     "output_type": "display_data"
    }
   ],
   "source": [
    "par(mfrow = c(1,2))\n",
    "plot.ts(df_prices[df_prices$symbol == 'AAL',]$open, col= 'red', ylab= 'price')\n",
    "lines(df_prices[df_prices$symbol == 'AAL',]$close, col = 'blue')\n",
    "lines(df_prices[df_prices$symbol == 'AAL',]$low, col = 'green')\n",
    "lines(df_prices[df_prices$symbol == 'AAL',]$high, col = 'black')\n",
    "legend('topright', c('open', 'close', 'low', 'high'), lty=1, col=c('red', 'blue', 'green', 'black'))\n",
    "\n",
    "\n",
    "plot.ts(df_prices[df_prices$symbol == 'AAL',]$volume, col= 'black', ylab= 'volume')\n",
    "legend('topright', names(df_prices[7]), lty=1, col=c('black'))\n"
   ]
  },
  {
   "cell_type": "code",
   "execution_count": 5,
   "metadata": {},
   "outputs": [
    {
     "data": {
      "text/html": [
       "<table>\n",
       "<thead><tr><th scope=col>X</th><th scope=col>Ticker.Symbol</th><th scope=col>Period.Ending</th><th scope=col>Accounts.Payable</th><th scope=col>Accounts.Receivable</th><th scope=col>Add.l.income.expense.items</th><th scope=col>After.Tax.ROE</th><th scope=col>Capital.Expenditures</th><th scope=col>Capital.Surplus</th><th scope=col>Cash.Ratio</th><th scope=col>...</th><th scope=col>Total.Current.Assets</th><th scope=col>Total.Current.Liabilities</th><th scope=col>Total.Equity</th><th scope=col>Total.Liabilities</th><th scope=col>Total.Liabilities...Equity</th><th scope=col>Total.Revenue</th><th scope=col>Treasury.Stock</th><th scope=col>For.Year</th><th scope=col>Earnings.Per.Share</th><th scope=col>Estimated.Shares.Outstanding</th></tr></thead>\n",
       "<tbody>\n",
       "\t<tr><td>0          </td><td>AAL        </td><td>2012-12-31 </td><td>3068000000 </td><td>-222000000 </td><td>-1.961e+09 </td><td> 23        </td><td>-1888000000</td><td> 4695000000</td><td>53         </td><td>...        </td><td> 7072000000</td><td> 9011000000</td><td>-7987000000</td><td>24891000000</td><td>16904000000</td><td>24855000000</td><td>-367000000 </td><td>2012       </td><td> -5.60     </td><td>335000000  </td></tr>\n",
       "\t<tr><td>1          </td><td>AAL        </td><td>2013-12-31 </td><td>4975000000 </td><td> -93000000 </td><td>-2.723e+09 </td><td> 67        </td><td>-3114000000</td><td>10592000000</td><td>75         </td><td>...        </td><td>14323000000</td><td>13806000000</td><td>-2731000000</td><td>45009000000</td><td>42278000000</td><td>26743000000</td><td>         0 </td><td>2013       </td><td>-11.25     </td><td>163022222  </td></tr>\n",
       "\t<tr><td>2          </td><td>AAL        </td><td>2014-12-31 </td><td>4668000000 </td><td>-160000000 </td><td>-1.500e+08 </td><td>143        </td><td>-5311000000</td><td>15135000000</td><td>60         </td><td>...        </td><td>11750000000</td><td>13404000000</td><td> 2021000000</td><td>41204000000</td><td>43225000000</td><td>42650000000</td><td>         0 </td><td>2014       </td><td>  4.02     </td><td>716915423  </td></tr>\n",
       "\t<tr><td>3          </td><td>AAL        </td><td>2015-12-31 </td><td>5102000000 </td><td> 352000000 </td><td>-7.080e+08 </td><td>135        </td><td>-6151000000</td><td>11591000000</td><td>51         </td><td>...        </td><td> 9985000000</td><td>13605000000</td><td> 5635000000</td><td>42780000000</td><td>48415000000</td><td>40990000000</td><td>         0 </td><td>2015       </td><td> 11.39     </td><td>668129939  </td></tr>\n",
       "\t<tr><td>4          </td><td>AAP        </td><td>2012-12-29 </td><td>2409453000 </td><td> -89482000 </td><td> 6.000e+05 </td><td> 32        </td><td> -271182000</td><td>  520215000</td><td>23         </td><td>...        </td><td> 3184200000</td><td> 2559638000</td><td> 1210694000</td><td> 3403120000</td><td> 4613814000</td><td> 6205003000</td><td> -27095000 </td><td>2012       </td><td>  5.29     </td><td> 73283554  </td></tr>\n",
       "\t<tr><td>5          </td><td>AAP        </td><td>2013-12-28 </td><td>2609239000 </td><td> -32428000 </td><td> 2.698e+06 </td><td> 26        </td><td> -195757000</td><td>  531293000</td><td>40         </td><td>...        </td><td> 3989384000</td><td> 2764785000</td><td> 1516205000</td><td> 4048569000</td><td> 5564774000</td><td> 6493814000</td><td>-107890000 </td><td>2013       </td><td>  5.36     </td><td> 73089179  </td></tr>\n",
       "</tbody>\n",
       "</table>\n"
      ],
      "text/latex": [
       "\\begin{tabular}{r|lllllllllllllllllllllllllllllllllllllllllllllllllllllllllllllllllllllllllllllll}\n",
       " X & Ticker.Symbol & Period.Ending & Accounts.Payable & Accounts.Receivable & Add.l.income.expense.items & After.Tax.ROE & Capital.Expenditures & Capital.Surplus & Cash.Ratio & ... & Total.Current.Assets & Total.Current.Liabilities & Total.Equity & Total.Liabilities & Total.Liabilities...Equity & Total.Revenue & Treasury.Stock & For.Year & Earnings.Per.Share & Estimated.Shares.Outstanding\\\\\n",
       "\\hline\n",
       "\t 0           & AAL         & 2012-12-31  & 3068000000  & -222000000  & -1.961e+09  &  23         & -1888000000 &  4695000000 & 53          & ...         &  7072000000 &  9011000000 & -7987000000 & 24891000000 & 16904000000 & 24855000000 & -367000000  & 2012        &  -5.60      & 335000000  \\\\\n",
       "\t 1           & AAL         & 2013-12-31  & 4975000000  &  -93000000  & -2.723e+09  &  67         & -3114000000 & 10592000000 & 75          & ...         & 14323000000 & 13806000000 & -2731000000 & 45009000000 & 42278000000 & 26743000000 &          0  & 2013        & -11.25      & 163022222  \\\\\n",
       "\t 2           & AAL         & 2014-12-31  & 4668000000  & -160000000  & -1.500e+08  & 143         & -5311000000 & 15135000000 & 60          & ...         & 11750000000 & 13404000000 &  2021000000 & 41204000000 & 43225000000 & 42650000000 &          0  & 2014        &   4.02      & 716915423  \\\\\n",
       "\t 3           & AAL         & 2015-12-31  & 5102000000  &  352000000  & -7.080e+08  & 135         & -6151000000 & 11591000000 & 51          & ...         &  9985000000 & 13605000000 &  5635000000 & 42780000000 & 48415000000 & 40990000000 &          0  & 2015        &  11.39      & 668129939  \\\\\n",
       "\t 4           & AAP         & 2012-12-29  & 2409453000  &  -89482000  &  6.000e+05  &  32         &  -271182000 &   520215000 & 23          & ...         &  3184200000 &  2559638000 &  1210694000 &  3403120000 &  4613814000 &  6205003000 &  -27095000  & 2012        &   5.29      &  73283554  \\\\\n",
       "\t 5           & AAP         & 2013-12-28  & 2609239000  &  -32428000  &  2.698e+06  &  26         &  -195757000 &   531293000 & 40          & ...         &  3989384000 &  2764785000 &  1516205000 &  4048569000 &  5564774000 &  6493814000 & -107890000  & 2013        &   5.36      &  73089179  \\\\\n",
       "\\end{tabular}\n"
      ],
      "text/markdown": [
       "\n",
       "| X | Ticker.Symbol | Period.Ending | Accounts.Payable | Accounts.Receivable | Add.l.income.expense.items | After.Tax.ROE | Capital.Expenditures | Capital.Surplus | Cash.Ratio | ... | Total.Current.Assets | Total.Current.Liabilities | Total.Equity | Total.Liabilities | Total.Liabilities...Equity | Total.Revenue | Treasury.Stock | For.Year | Earnings.Per.Share | Estimated.Shares.Outstanding |\n",
       "|---|---|---|---|---|---|---|---|---|---|---|---|---|---|---|---|---|---|---|---|---|\n",
       "| 0           | AAL         | 2012-12-31  | 3068000000  | -222000000  | -1.961e+09  |  23         | -1888000000 |  4695000000 | 53          | ...         |  7072000000 |  9011000000 | -7987000000 | 24891000000 | 16904000000 | 24855000000 | -367000000  | 2012        |  -5.60      | 335000000   |\n",
       "| 1           | AAL         | 2013-12-31  | 4975000000  |  -93000000  | -2.723e+09  |  67         | -3114000000 | 10592000000 | 75          | ...         | 14323000000 | 13806000000 | -2731000000 | 45009000000 | 42278000000 | 26743000000 |          0  | 2013        | -11.25      | 163022222   |\n",
       "| 2           | AAL         | 2014-12-31  | 4668000000  | -160000000  | -1.500e+08  | 143         | -5311000000 | 15135000000 | 60          | ...         | 11750000000 | 13404000000 |  2021000000 | 41204000000 | 43225000000 | 42650000000 |          0  | 2014        |   4.02      | 716915423   |\n",
       "| 3           | AAL         | 2015-12-31  | 5102000000  |  352000000  | -7.080e+08  | 135         | -6151000000 | 11591000000 | 51          | ...         |  9985000000 | 13605000000 |  5635000000 | 42780000000 | 48415000000 | 40990000000 |          0  | 2015        |  11.39      | 668129939   |\n",
       "| 4           | AAP         | 2012-12-29  | 2409453000  |  -89482000  |  6.000e+05  |  32         |  -271182000 |   520215000 | 23          | ...         |  3184200000 |  2559638000 |  1210694000 |  3403120000 |  4613814000 |  6205003000 |  -27095000  | 2012        |   5.29      |  73283554   |\n",
       "| 5           | AAP         | 2013-12-28  | 2609239000  |  -32428000  |  2.698e+06  |  26         |  -195757000 |   531293000 | 40          | ...         |  3989384000 |  2764785000 |  1516205000 |  4048569000 |  5564774000 |  6493814000 | -107890000  | 2013        |   5.36      |  73089179   |\n",
       "\n"
      ],
      "text/plain": [
       "  X Ticker.Symbol Period.Ending Accounts.Payable Accounts.Receivable\n",
       "1 0 AAL           2012-12-31    3068000000       -222000000         \n",
       "2 1 AAL           2013-12-31    4975000000        -93000000         \n",
       "3 2 AAL           2014-12-31    4668000000       -160000000         \n",
       "4 3 AAL           2015-12-31    5102000000        352000000         \n",
       "5 4 AAP           2012-12-29    2409453000        -89482000         \n",
       "6 5 AAP           2013-12-28    2609239000        -32428000         \n",
       "  Add.l.income.expense.items After.Tax.ROE Capital.Expenditures Capital.Surplus\n",
       "1 -1.961e+09                  23           -1888000000           4695000000    \n",
       "2 -2.723e+09                  67           -3114000000          10592000000    \n",
       "3 -1.500e+08                 143           -5311000000          15135000000    \n",
       "4 -7.080e+08                 135           -6151000000          11591000000    \n",
       "5  6.000e+05                  32            -271182000            520215000    \n",
       "6  2.698e+06                  26            -195757000            531293000    \n",
       "  Cash.Ratio ... Total.Current.Assets Total.Current.Liabilities Total.Equity\n",
       "1 53         ...  7072000000           9011000000               -7987000000 \n",
       "2 75         ... 14323000000          13806000000               -2731000000 \n",
       "3 60         ... 11750000000          13404000000                2021000000 \n",
       "4 51         ...  9985000000          13605000000                5635000000 \n",
       "5 23         ...  3184200000           2559638000                1210694000 \n",
       "6 40         ...  3989384000           2764785000                1516205000 \n",
       "  Total.Liabilities Total.Liabilities...Equity Total.Revenue Treasury.Stock\n",
       "1 24891000000       16904000000                24855000000   -367000000    \n",
       "2 45009000000       42278000000                26743000000            0    \n",
       "3 41204000000       43225000000                42650000000            0    \n",
       "4 42780000000       48415000000                40990000000            0    \n",
       "5  3403120000        4613814000                 6205003000    -27095000    \n",
       "6  4048569000        5564774000                 6493814000   -107890000    \n",
       "  For.Year Earnings.Per.Share Estimated.Shares.Outstanding\n",
       "1 2012      -5.60             335000000                   \n",
       "2 2013     -11.25             163022222                   \n",
       "3 2014       4.02             716915423                   \n",
       "4 2015      11.39             668129939                   \n",
       "5 2012       5.29              73283554                   \n",
       "6 2013       5.36              73089179                   "
      ]
     },
     "metadata": {},
     "output_type": "display_data"
    }
   ],
   "source": [
    "head(df_fundamentals)"
   ]
  },
  {
   "cell_type": "code",
   "execution_count": 6,
   "metadata": {},
   "outputs": [
    {
     "data": {
      "text/plain": [
       "       X        Ticker.Symbol     Period.Ending Accounts.Payable   \n",
       " Min.   :   0   AAL    :   4   2014-12-31:317   Min.   :0.000e+00  \n",
       " 1st Qu.: 445   AAP    :   4   2015-12-31:317   1st Qu.:5.160e+08  \n",
       " Median : 890   AAPL   :   4   2013-12-31:316   Median :1.334e+09  \n",
       " Mean   : 890   ABBV   :   4   2012-12-31:225   Mean   :4.673e+09  \n",
       " 3rd Qu.:1335   ABC    :   4   2016-12-31: 97   3rd Qu.:3.246e+09  \n",
       " Max.   :1780   ABT    :   4   2015-01-31: 19   Max.   :2.069e+11  \n",
       "                (Other):1757   (Other)   :490                      \n",
       " Accounts.Receivable  Add.l.income.expense.items After.Tax.ROE   \n",
       " Min.   :-6.452e+09   Min.   :-6.768e+09         Min.   :   0.0  \n",
       " 1st Qu.:-1.040e+08   1st Qu.:-2.638e+06         1st Qu.:  10.0  \n",
       " Median :-1.830e+07   Median : 2.000e+06         Median :  16.0  \n",
       " Mean   :-6.353e+07   Mean   : 6.909e+07         Mean   :  43.6  \n",
       " 3rd Qu.: 7.816e+06   3rd Qu.: 3.359e+07         3rd Qu.:  26.0  \n",
       " Max.   : 2.266e+10   Max.   : 1.416e+10         Max.   :5789.0  \n",
       "                                                                 \n",
       " Capital.Expenditures Capital.Surplus        Cash.Ratio     \n",
       " Min.   :-3.798e+10   Min.   :-7.215e+08   Min.   :   0.00  \n",
       " 1st Qu.:-1.151e+09   1st Qu.: 4.791e+08   1st Qu.:  17.00  \n",
       " Median :-3.580e+08   Median : 1.997e+09   Median :  41.00  \n",
       " Mean   :-1.252e+09   Mean   : 5.352e+09   Mean   :  74.46  \n",
       " 3rd Qu.:-1.291e+08   3rd Qu.: 5.735e+09   3rd Qu.:  90.00  \n",
       " Max.   : 5.000e+06   Max.   : 1.083e+11   Max.   :1041.00  \n",
       "                                           NA's   :299      \n",
       " Cash.and.Cash.Equivalents Changes.in.Inventories Common.Stocks      \n",
       " Min.   :2.100e+04         Min.   :-5.562e+09     Min.   :0.000e+00  \n",
       " 1st Qu.:3.088e+08         1st Qu.:-5.400e+07     1st Qu.:1.628e+06  \n",
       " Median :8.626e+08         Median : 0.000e+00     Median :7.725e+06  \n",
       " Mean   :8.521e+09         Mean   :-6.788e+07     Mean   :1.609e+09  \n",
       " 3rd Qu.:2.310e+09         3rd Qu.: 0.000e+00     3rd Qu.:2.970e+08  \n",
       " Max.   :7.281e+11         Max.   : 3.755e+09     Max.   :1.581e+11  \n",
       "                                                                     \n",
       " Cost.of.Revenue     Current.Ratio    Deferred.Asset.Charges\n",
       " Min.   :0.000e+00   Min.   :  17.0   Min.   :0.000e+00     \n",
       " 1st Qu.:1.194e+09   1st Qu.: 109.0   1st Qu.:0.000e+00     \n",
       " Median :3.685e+09   Median : 152.0   Median :0.000e+00     \n",
       " Mean   :1.235e+10   Mean   : 186.8   Mean   :5.908e+08     \n",
       " 3rd Qu.:9.801e+09   3rd Qu.: 226.0   3rd Qu.:1.471e+08     \n",
       " Max.   :3.651e+11   Max.   :1197.0   Max.   :3.686e+10     \n",
       "                     NA's   :299                            \n",
       " Deferred.Liability.Charges  Depreciation       \n",
       " Min.   :0.000e+00          Min.   :-4.480e+08  \n",
       " 1st Qu.:0.000e+00          1st Qu.: 1.799e+08  \n",
       " Median :2.060e+08          Median : 4.280e+08  \n",
       " Mean   :1.611e+09          Mean   : 1.084e+09  \n",
       " 3rd Qu.:1.083e+09          3rd Qu.: 1.047e+09  \n",
       " Max.   :5.618e+10          Max.   : 2.952e+10  \n",
       "                                                \n",
       " Earnings.Before.Interest.and.Tax Earnings.Before.Tax  Effect.of.Exchange.Rate\n",
       " Min.   :-2.793e+10               Min.   :-2.823e+10   Min.   :-3.067e+09     \n",
       " 1st Qu.: 5.852e+08               1st Qu.: 4.900e+08   1st Qu.:-2.000e+07     \n",
       " Median : 1.139e+09               Median : 9.601e+08   Median :-6.000e+05     \n",
       " Mean   : 2.710e+09               Mean   : 2.375e+09   Mean   :-3.849e+07     \n",
       " 3rd Qu.: 2.586e+09               3rd Qu.: 2.255e+09   3rd Qu.: 0.000e+00     \n",
       " Max.   : 7.905e+10               Max.   : 7.873e+10   Max.   : 1.160e+09     \n",
       "                                                                              \n",
       " Equity.Earnings.Loss.Unconsolidated.Subsidiary  Fixed.Assets      \n",
       " Min.   :-1.633e+09                             Min.   :0.000e+00  \n",
       " 1st Qu.: 0.000e+00                             1st Qu.:5.920e+08  \n",
       " Median : 0.000e+00                             Median :2.089e+09  \n",
       " Mean   : 9.134e+07                             Mean   :8.534e+09  \n",
       " 3rd Qu.: 0.000e+00                             3rd Qu.:9.231e+09  \n",
       " Max.   : 1.501e+10                             Max.   :2.527e+11  \n",
       "                                                                   \n",
       "    Goodwill          Gross.Margin     Gross.Profit          Income.Tax        \n",
       " Min.   :0.000e+00   Min.   :  0.00   Min.   :-1.265e+10   Min.   :-8.013e+09  \n",
       " 1st Qu.:1.222e+08   1st Qu.: 29.00   1st Qu.: 1.582e+09   1st Qu.: 1.030e+08  \n",
       " Median :1.260e+09   Median : 43.00   Median : 2.991e+09   Median : 2.689e+08  \n",
       " Mean   :3.930e+09   Mean   : 46.76   Mean   : 7.189e+09   Mean   : 6.694e+08  \n",
       " 3rd Qu.:4.091e+09   3rd Qu.: 64.00   3rd Qu.: 6.944e+09   3rd Qu.: 6.264e+08  \n",
       " Max.   :1.046e+11   Max.   :100.00   Max.   : 1.495e+11   Max.   : 3.104e+10  \n",
       "                                                                               \n",
       " Intangible.Assets   Interest.Expense      Inventory        \n",
       " Min.   :0.000e+00   Min.   :0.000e+00   Min.   :0.000e+00  \n",
       " 1st Qu.:0.000e+00   1st Qu.:3.005e+07   1st Qu.:0.000e+00  \n",
       " Median :3.180e+08   Median :1.223e+08   Median :3.804e+08  \n",
       " Mean   :1.964e+09   Mean   :3.263e+08   Mean   :1.467e+09  \n",
       " 3rd Qu.:1.474e+09   3rd Qu.:3.200e+08   3rd Qu.:1.467e+09  \n",
       " Max.   :1.207e+11   Max.   :2.061e+10   Max.   :4.726e+10  \n",
       "                                                            \n",
       "  Investments          Liabilities         Long.Term.Debt     \n",
       " Min.   :-1.651e+11   Min.   :-4.017e+10   Min.   :0.000e+00  \n",
       " 1st Qu.:-2.150e+08   1st Qu.:-5.484e+07   1st Qu.:1.107e+09  \n",
       " Median :-9.700e+04   Median : 2.700e+07   Median :3.346e+09  \n",
       " Mean   :-9.679e+08   Mean   : 1.790e+08   Mean   :8.477e+09  \n",
       " 3rd Qu.: 9.000e+06   3rd Qu.: 1.777e+08   3rd Qu.:7.781e+09  \n",
       " Max.   : 3.835e+10   Max.   : 3.710e+10   Max.   :4.292e+11  \n",
       "                                                              \n",
       " Long.Term.Investments Minority.Interest     Misc..Stocks       \n",
       " Min.   :0.000e+00     Min.   :-1.050e+08   Min.   :-151000000  \n",
       " 1st Qu.:0.000e+00     1st Qu.: 0.000e+00   1st Qu.:         0  \n",
       " Median :9.260e+07     Median : 1.000e+06   Median :         0  \n",
       " Mean   :2.321e+10     Mean   : 4.167e+08   Mean   :  42436180  \n",
       " 3rd Qu.:1.488e+09     3rd Qu.: 8.500e+07   3rd Qu.:         0  \n",
       " Max.   :1.652e+12     Max.   : 6.319e+10   Max.   :3713000000  \n",
       "                                                                \n",
       " Net.Borrowings       Net.Cash.Flow        Net.Cash.Flow.Operating\n",
       " Min.   :-9.909e+10   Min.   :-4.293e+10   Min.   :-1.606e+10     \n",
       " 1st Qu.:-7.340e+07   1st Qu.:-1.550e+08   1st Qu.: 6.642e+08     \n",
       " Median : 1.063e+08   Median : 1.000e+07   Median : 1.237e+09     \n",
       " Mean   : 5.155e+08   Mean   : 5.273e+07   Mean   : 3.258e+09     \n",
       " 3rd Qu.: 7.810e+08   3rd Qu.: 2.457e+08   3rd Qu.: 3.049e+09     \n",
       " Max.   : 4.971e+10   Max.   : 5.044e+10   Max.   : 1.080e+11     \n",
       "                                                                  \n",
       " Net.Cash.Flows.Financing Net.Cash.Flows.Investing   Net.Income        \n",
       " Min.   :-1.875e+11       Min.   :-1.656e+11       Min.   :-2.353e+10  \n",
       " 1st Qu.:-1.092e+09       1st Qu.:-2.296e+09       1st Qu.: 3.528e+08  \n",
       " Median :-3.541e+08       Median :-7.568e+08       Median : 6.861e+08  \n",
       " Mean   :-4.576e+08       Mean   :-2.718e+09       Mean   : 1.706e+09  \n",
       " 3rd Qu.: 1.279e+08       3rd Qu.:-2.560e+08       3rd Qu.: 1.697e+09  \n",
       " Max.   : 1.182e+11       Max.   : 1.070e+11       Max.   : 5.339e+10  \n",
       "                                                                       \n",
       " Net.Income.Adjustments Net.Income.Applicable.to.Common.Shareholders\n",
       " Min.   :-5.810e+10     Min.   :-2.312e+10                          \n",
       " 1st Qu.:-7.200e+06     1st Qu.: 3.512e+08                          \n",
       " Median : 8.895e+07     Median : 6.820e+08                          \n",
       " Mean   : 2.198e+08     Mean   : 1.688e+09                          \n",
       " 3rd Qu.: 3.431e+08     3rd Qu.: 1.679e+09                          \n",
       " Max.   : 1.722e+10     Max.   : 5.339e+10                          \n",
       "                                                                    \n",
       " Net.Income.Cont..Operations Net.Receivables     Non.Recurring.Items \n",
       " Min.   :-2.276e+10          Min.   :0.000e+00   Min.   :-2.524e+09  \n",
       " 1st Qu.: 3.534e+08          1st Qu.:4.336e+08   1st Qu.: 0.000e+00  \n",
       " Median : 6.851e+08          Median :1.083e+09   Median : 0.000e+00  \n",
       " Mean   : 1.748e+09          Mean   :3.242e+09   Mean   : 2.185e+08  \n",
       " 3rd Qu.: 1.673e+09          3rd Qu.:2.383e+09   3rd Qu.: 5.000e+07  \n",
       " Max.   : 5.989e+10          Max.   :9.282e+10   Max.   : 2.090e+10  \n",
       "                                                                     \n",
       " Operating.Income     Operating.Margin  Other.Assets       Other.Current.Assets\n",
       " Min.   :-2.791e+10   Min.   :  0.00   Min.   :0.000e+00   Min.   :0.000e+00   \n",
       " 1st Qu.: 5.259e+08   1st Qu.:  9.00   1st Qu.:1.070e+08   1st Qu.:5.034e+07   \n",
       " Median : 1.021e+09   Median : 15.00   Median :4.110e+08   Median :1.837e+08   \n",
       " Mean   : 2.269e+09   Mean   : 18.18   Mean   :4.860e+09   Mean   :6.071e+08   \n",
       " 3rd Qu.: 2.260e+09   3rd Qu.: 23.00   3rd Qu.:1.385e+09   3rd Qu.:5.480e+08   \n",
       " Max.   : 7.123e+10   Max.   :437.00   Max.   :3.256e+11   Max.   :3.509e+10   \n",
       "                                                                               \n",
       " Other.Current.Liabilities  Other.Equity        Other.Financing.Activities\n",
       " Min.   :0.000e+00         Min.   :-2.961e+10   Min.   :-9.504e+10        \n",
       " 1st Qu.:0.000e+00         1st Qu.:-5.522e+08   1st Qu.:-1.900e+07        \n",
       " Median :1.287e+08         Median :-9.500e+07   Median : 0.000e+00        \n",
       " Mean   :1.501e+10         Mean   :-6.208e+08   Mean   : 4.844e+08        \n",
       " 3rd Qu.:8.710e+08         3rd Qu.: 0.000e+00   3rd Qu.: 0.000e+00        \n",
       " Max.   :1.363e+12         Max.   : 3.678e+10   Max.   : 8.964e+10        \n",
       "                                                                          \n",
       " Other.Investing.Activities Other.Liabilities   Other.Operating.Activities\n",
       " Min.   :-5.672e+10         Min.   :0.000e+00   Min.   :-3.367e+10        \n",
       " 1st Qu.:-2.530e+08         1st Qu.:1.790e+08   1st Qu.:-8.400e+07        \n",
       " Median :-1.400e+07         Median :6.960e+08   Median :-8.959e+06        \n",
       " Mean   :-4.054e+08         Mean   :9.077e+09   Mean   : 7.145e+06        \n",
       " 3rd Qu.: 5.000e+07         3rd Qu.:2.587e+09   3rd Qu.: 2.650e+07        \n",
       " Max.   : 1.160e+10         Max.   :7.662e+11   Max.   : 8.751e+10        \n",
       "                                                                          \n",
       " Other.Operating.Items Pre.Tax.Margin    Pre.Tax.ROE      Profit.Margin   \n",
       " Min.   :-8.716e+07    Min.   :  0.00   Min.   :   0.00   Min.   :  0.00  \n",
       " 1st Qu.: 0.000e+00    1st Qu.:  8.00   1st Qu.:  13.00   1st Qu.:  6.00  \n",
       " Median : 7.173e+07    Median : 14.00   Median :  22.00   Median : 10.00  \n",
       " Mean   : 8.688e+08    Mean   : 17.75   Mean   :  59.65   Mean   : 13.96  \n",
       " 3rd Qu.: 6.080e+08    3rd Qu.: 22.00   3rd Qu.:  36.00   3rd Qu.: 17.00  \n",
       " Max.   : 5.487e+10    Max.   :442.00   Max.   :9089.00   Max.   :369.00  \n",
       "                                                                          \n",
       "  Quick.Ratio      Research.and.Development Retained.Earnings   \n",
       " Min.   :  10.00   Min.   :0.000e+00        Min.   :-1.990e+10  \n",
       " 1st Qu.:  77.25   1st Qu.:0.000e+00        1st Qu.: 1.100e+09  \n",
       " Median : 115.00   Median :0.000e+00        Median : 3.337e+09  \n",
       " Mean   : 146.95   Mean   :3.503e+08        Mean   : 9.207e+09  \n",
       " 3rd Qu.: 180.00   3rd Qu.:6.541e+07        3rd Qu.: 9.012e+09  \n",
       " Max.   :1197.00   Max.   :1.274e+10        Max.   : 4.124e+11  \n",
       " NA's   :299                                                    \n",
       " Sale.and.Purchase.of.Stock Sales..General.and.Admin.\n",
       " Min.   :-5.885e+10         Min.   :-4.870e+08       \n",
       " 1st Qu.:-7.495e+08         1st Qu.: 5.598e+08       \n",
       " Median :-2.102e+08         Median : 1.338e+09       \n",
       " Mean   :-7.652e+08         Mean   : 3.981e+09       \n",
       " 3rd Qu.: 2.385e+06         3rd Qu.: 3.430e+09       \n",
       " Max.   : 5.410e+09         Max.   : 9.704e+10       \n",
       "                                                     \n",
       " Short.Term.Debt...Current.Portion.of.Long.Term.Debt Short.Term.Investments\n",
       " Min.   :0.000e+00                                   Min.   :0.000e+00     \n",
       " 1st Qu.:4.278e+06                                   1st Qu.:0.000e+00     \n",
       " Median :2.131e+08                                   Median :0.000e+00     \n",
       " Mean   :3.055e+09                                   Mean   :1.124e+09     \n",
       " 3rd Qu.:9.560e+08                                   3rd Qu.:2.550e+08     \n",
       " Max.   :3.240e+11                                   Max.   :1.067e+11     \n",
       "                                                                           \n",
       "  Total.Assets       Total.Current.Assets Total.Current.Liabilities\n",
       " Min.   :2.705e+06   Min.   :0.000e+00    Min.   :0.000e+00        \n",
       " 1st Qu.:6.553e+09   1st Qu.:1.044e+09    1st Qu.:5.641e+08        \n",
       " Median :1.517e+10   Median :2.747e+09    Median :1.702e+09        \n",
       " Mean   :5.571e+10   Mean   :6.726e+09    Mean   :4.700e+09        \n",
       " 3rd Qu.:3.600e+10   3rd Qu.:6.162e+09    3rd Qu.:4.381e+09        \n",
       " Max.   :2.572e+12   Max.   :1.397e+11    Max.   :9.028e+10        \n",
       "                                                                   \n",
       "  Total.Equity        Total.Liabilities   Total.Liabilities...Equity\n",
       " Min.   :-1.324e+10   Min.   :2.577e+06   Min.   :2.705e+06         \n",
       " 1st Qu.: 2.201e+09   1st Qu.:3.843e+09   1st Qu.:6.553e+09         \n",
       " Median : 4.983e+09   Median :9.141e+09   Median :1.517e+10         \n",
       " Mean   : 1.189e+10   Mean   :4.380e+10   Mean   :5.569e+10         \n",
       " 3rd Qu.: 1.081e+10   3rd Qu.:2.390e+10   3rd Qu.:3.600e+10         \n",
       " Max.   : 2.562e+11   Max.   :2.341e+12   Max.   :2.572e+12         \n",
       "                                                                    \n",
       " Total.Revenue       Treasury.Stock          For.Year    Earnings.Per.Share\n",
       " Min.   :1.514e+06   Min.   :-2.297e+11   Min.   :1215   Min.   :-61.200   \n",
       " 1st Qu.:3.714e+09   1st Qu.:-3.041e+09   1st Qu.:2013   1st Qu.:  1.590   \n",
       " Median :8.023e+09   Median :-3.068e+08   Median :2014   Median :  2.810   \n",
       " Mean   :2.029e+10   Mean   :-3.952e+09   Mean   :2013   Mean   :  3.354   \n",
       " 3rd Qu.:1.749e+10   3rd Qu.: 0.000e+00   3rd Qu.:2015   3rd Qu.:  4.590   \n",
       " Max.   :4.857e+11   Max.   : 0.000e+00   Max.   :2016   Max.   : 50.090   \n",
       "                                          NA's   :173    NA's   :219       \n",
       " Estimated.Shares.Outstanding\n",
       " Min.   :-1.514e+09          \n",
       " 1st Qu.: 1.493e+08          \n",
       " Median : 2.929e+08          \n",
       " Mean   : 6.024e+08          \n",
       " 3rd Qu.: 5.492e+08          \n",
       " Max.   : 1.611e+10          \n",
       " NA's   :219                 "
      ]
     },
     "metadata": {},
     "output_type": "display_data"
    }
   ],
   "source": [
    "summary(df_fundamentals)"
   ]
  },
  {
   "cell_type": "code",
   "execution_count": 7,
   "metadata": {},
   "outputs": [],
   "source": [
    "df_AAL_fundamentals <- df_fundamentals[df_fundamentals$Ticker.Symbol == 'AAL',]"
   ]
  },
  {
   "cell_type": "code",
   "execution_count": 8,
   "metadata": {},
   "outputs": [
    {
     "data": {
      "text/html": [
       "<table>\n",
       "<thead><tr><th scope=col>X</th><th scope=col>Ticker.Symbol</th><th scope=col>Period.Ending</th><th scope=col>Accounts.Payable</th><th scope=col>Accounts.Receivable</th><th scope=col>Add.l.income.expense.items</th><th scope=col>After.Tax.ROE</th><th scope=col>Capital.Expenditures</th><th scope=col>Capital.Surplus</th><th scope=col>Cash.Ratio</th><th scope=col>...</th><th scope=col>Total.Current.Assets</th><th scope=col>Total.Current.Liabilities</th><th scope=col>Total.Equity</th><th scope=col>Total.Liabilities</th><th scope=col>Total.Liabilities...Equity</th><th scope=col>Total.Revenue</th><th scope=col>Treasury.Stock</th><th scope=col>For.Year</th><th scope=col>Earnings.Per.Share</th><th scope=col>Estimated.Shares.Outstanding</th></tr></thead>\n",
       "<tbody>\n",
       "\t<tr><td>0         </td><td>AAL       </td><td>2012-12-31</td><td>3.068e+09 </td><td>-2.22e+08 </td><td>-1.961e+09</td><td> 23       </td><td>-1.888e+09</td><td>4.6950e+09</td><td>53        </td><td>...       </td><td>7.0720e+09</td><td>9.0110e+09</td><td>-7.987e+09</td><td>2.4891e+10</td><td>1.6904e+10</td><td>2.4855e+10</td><td>-3.67e+08 </td><td>2012      </td><td> -5.60    </td><td>335000000 </td></tr>\n",
       "\t<tr><td>1         </td><td>AAL       </td><td>2013-12-31</td><td>4.975e+09 </td><td>-9.30e+07 </td><td>-2.723e+09</td><td> 67       </td><td>-3.114e+09</td><td>1.0592e+10</td><td>75        </td><td>...       </td><td>1.4323e+10</td><td>1.3806e+10</td><td>-2.731e+09</td><td>4.5009e+10</td><td>4.2278e+10</td><td>2.6743e+10</td><td> 0.00e+00 </td><td>2013      </td><td>-11.25    </td><td>163022222 </td></tr>\n",
       "\t<tr><td>2         </td><td>AAL       </td><td>2014-12-31</td><td>4.668e+09 </td><td>-1.60e+08 </td><td>-1.500e+08</td><td>143       </td><td>-5.311e+09</td><td>1.5135e+10</td><td>60        </td><td>...       </td><td>1.1750e+10</td><td>1.3404e+10</td><td> 2.021e+09</td><td>4.1204e+10</td><td>4.3225e+10</td><td>4.2650e+10</td><td> 0.00e+00 </td><td>2014      </td><td>  4.02    </td><td>716915423 </td></tr>\n",
       "\t<tr><td>3         </td><td>AAL       </td><td>2015-12-31</td><td>5.102e+09 </td><td> 3.52e+08 </td><td>-7.080e+08</td><td>135       </td><td>-6.151e+09</td><td>1.1591e+10</td><td>51        </td><td>...       </td><td>9.9850e+09</td><td>1.3605e+10</td><td> 5.635e+09</td><td>4.2780e+10</td><td>4.8415e+10</td><td>4.0990e+10</td><td> 0.00e+00 </td><td>2015      </td><td> 11.39    </td><td>668129939 </td></tr>\n",
       "</tbody>\n",
       "</table>\n"
      ],
      "text/latex": [
       "\\begin{tabular}{r|lllllllllllllllllllllllllllllllllllllllllllllllllllllllllllllllllllllllllllllll}\n",
       " X & Ticker.Symbol & Period.Ending & Accounts.Payable & Accounts.Receivable & Add.l.income.expense.items & After.Tax.ROE & Capital.Expenditures & Capital.Surplus & Cash.Ratio & ... & Total.Current.Assets & Total.Current.Liabilities & Total.Equity & Total.Liabilities & Total.Liabilities...Equity & Total.Revenue & Treasury.Stock & For.Year & Earnings.Per.Share & Estimated.Shares.Outstanding\\\\\n",
       "\\hline\n",
       "\t 0          & AAL        & 2012-12-31 & 3.068e+09  & -2.22e+08  & -1.961e+09 &  23        & -1.888e+09 & 4.6950e+09 & 53         & ...        & 7.0720e+09 & 9.0110e+09 & -7.987e+09 & 2.4891e+10 & 1.6904e+10 & 2.4855e+10 & -3.67e+08  & 2012       &  -5.60     & 335000000 \\\\\n",
       "\t 1          & AAL        & 2013-12-31 & 4.975e+09  & -9.30e+07  & -2.723e+09 &  67        & -3.114e+09 & 1.0592e+10 & 75         & ...        & 1.4323e+10 & 1.3806e+10 & -2.731e+09 & 4.5009e+10 & 4.2278e+10 & 2.6743e+10 &  0.00e+00  & 2013       & -11.25     & 163022222 \\\\\n",
       "\t 2          & AAL        & 2014-12-31 & 4.668e+09  & -1.60e+08  & -1.500e+08 & 143        & -5.311e+09 & 1.5135e+10 & 60         & ...        & 1.1750e+10 & 1.3404e+10 &  2.021e+09 & 4.1204e+10 & 4.3225e+10 & 4.2650e+10 &  0.00e+00  & 2014       &   4.02     & 716915423 \\\\\n",
       "\t 3          & AAL        & 2015-12-31 & 5.102e+09  &  3.52e+08  & -7.080e+08 & 135        & -6.151e+09 & 1.1591e+10 & 51         & ...        & 9.9850e+09 & 1.3605e+10 &  5.635e+09 & 4.2780e+10 & 4.8415e+10 & 4.0990e+10 &  0.00e+00  & 2015       &  11.39     & 668129939 \\\\\n",
       "\\end{tabular}\n"
      ],
      "text/markdown": [
       "\n",
       "| X | Ticker.Symbol | Period.Ending | Accounts.Payable | Accounts.Receivable | Add.l.income.expense.items | After.Tax.ROE | Capital.Expenditures | Capital.Surplus | Cash.Ratio | ... | Total.Current.Assets | Total.Current.Liabilities | Total.Equity | Total.Liabilities | Total.Liabilities...Equity | Total.Revenue | Treasury.Stock | For.Year | Earnings.Per.Share | Estimated.Shares.Outstanding |\n",
       "|---|---|---|---|---|---|---|---|---|---|---|---|---|---|---|---|---|---|---|---|---|\n",
       "| 0          | AAL        | 2012-12-31 | 3.068e+09  | -2.22e+08  | -1.961e+09 |  23        | -1.888e+09 | 4.6950e+09 | 53         | ...        | 7.0720e+09 | 9.0110e+09 | -7.987e+09 | 2.4891e+10 | 1.6904e+10 | 2.4855e+10 | -3.67e+08  | 2012       |  -5.60     | 335000000  |\n",
       "| 1          | AAL        | 2013-12-31 | 4.975e+09  | -9.30e+07  | -2.723e+09 |  67        | -3.114e+09 | 1.0592e+10 | 75         | ...        | 1.4323e+10 | 1.3806e+10 | -2.731e+09 | 4.5009e+10 | 4.2278e+10 | 2.6743e+10 |  0.00e+00  | 2013       | -11.25     | 163022222  |\n",
       "| 2          | AAL        | 2014-12-31 | 4.668e+09  | -1.60e+08  | -1.500e+08 | 143        | -5.311e+09 | 1.5135e+10 | 60         | ...        | 1.1750e+10 | 1.3404e+10 |  2.021e+09 | 4.1204e+10 | 4.3225e+10 | 4.2650e+10 |  0.00e+00  | 2014       |   4.02     | 716915423  |\n",
       "| 3          | AAL        | 2015-12-31 | 5.102e+09  |  3.52e+08  | -7.080e+08 | 135        | -6.151e+09 | 1.1591e+10 | 51         | ...        | 9.9850e+09 | 1.3605e+10 |  5.635e+09 | 4.2780e+10 | 4.8415e+10 | 4.0990e+10 |  0.00e+00  | 2015       |  11.39     | 668129939  |\n",
       "\n"
      ],
      "text/plain": [
       "  X Ticker.Symbol Period.Ending Accounts.Payable Accounts.Receivable\n",
       "1 0 AAL           2012-12-31    3.068e+09        -2.22e+08          \n",
       "2 1 AAL           2013-12-31    4.975e+09        -9.30e+07          \n",
       "3 2 AAL           2014-12-31    4.668e+09        -1.60e+08          \n",
       "4 3 AAL           2015-12-31    5.102e+09         3.52e+08          \n",
       "  Add.l.income.expense.items After.Tax.ROE Capital.Expenditures Capital.Surplus\n",
       "1 -1.961e+09                  23           -1.888e+09           4.6950e+09     \n",
       "2 -2.723e+09                  67           -3.114e+09           1.0592e+10     \n",
       "3 -1.500e+08                 143           -5.311e+09           1.5135e+10     \n",
       "4 -7.080e+08                 135           -6.151e+09           1.1591e+10     \n",
       "  Cash.Ratio ... Total.Current.Assets Total.Current.Liabilities Total.Equity\n",
       "1 53         ... 7.0720e+09           9.0110e+09                -7.987e+09  \n",
       "2 75         ... 1.4323e+10           1.3806e+10                -2.731e+09  \n",
       "3 60         ... 1.1750e+10           1.3404e+10                 2.021e+09  \n",
       "4 51         ... 9.9850e+09           1.3605e+10                 5.635e+09  \n",
       "  Total.Liabilities Total.Liabilities...Equity Total.Revenue Treasury.Stock\n",
       "1 2.4891e+10        1.6904e+10                 2.4855e+10    -3.67e+08     \n",
       "2 4.5009e+10        4.2278e+10                 2.6743e+10     0.00e+00     \n",
       "3 4.1204e+10        4.3225e+10                 4.2650e+10     0.00e+00     \n",
       "4 4.2780e+10        4.8415e+10                 4.0990e+10     0.00e+00     \n",
       "  For.Year Earnings.Per.Share Estimated.Shares.Outstanding\n",
       "1 2012      -5.60             335000000                   \n",
       "2 2013     -11.25             163022222                   \n",
       "3 2014       4.02             716915423                   \n",
       "4 2015      11.39             668129939                   "
      ]
     },
     "metadata": {},
     "output_type": "display_data"
    }
   ],
   "source": [
    "df_AAL_fundamentals"
   ]
  },
  {
   "cell_type": "code",
   "execution_count": 9,
   "metadata": {},
   "outputs": [],
   "source": [
    "df_prices_AAL <- df_prices[df_prices$symbol == 'AAL', ]"
   ]
  },
  {
   "cell_type": "code",
   "execution_count": 17,
   "metadata": {},
   "outputs": [],
   "source": [
    "col_drop <- c('date', 'symbol', 'volume')\n",
    "df_prices_AAL <- df_prices_AAL[, !(names(df_prices_AAL) %in% col_drop)]"
   ]
  },
  {
   "cell_type": "code",
   "execution_count": 18,
   "metadata": {},
   "outputs": [
    {
     "data": {
      "text/html": [
       "1762"
      ],
      "text/latex": [
       "1762"
      ],
      "text/markdown": [
       "1762"
      ],
      "text/plain": [
       "[1] 1762"
      ]
     },
     "metadata": {},
     "output_type": "display_data"
    }
   ],
   "source": [
    "nrow(df_prices_AAL)"
   ]
  },
  {
   "cell_type": "code",
   "execution_count": 19,
   "metadata": {},
   "outputs": [],
   "source": [
    "set.seed(123)"
   ]
  },
  {
   "cell_type": "code",
   "execution_count": 20,
   "metadata": {},
   "outputs": [],
   "source": [
    "myData <- df_prices_AAL[sample(nrow(df_prices_AAL)),]"
   ]
  },
  {
   "cell_type": "code",
   "execution_count": 21,
   "metadata": {},
   "outputs": [],
   "source": [
    "folds <- cut(seq(1, nrow(myData)), breaks = 10, labels = FALSE)"
   ]
  },
  {
   "cell_type": "code",
   "execution_count": 31,
   "metadata": {},
   "outputs": [],
   "source": [
    "SSE1 = list()\n",
    "SSE2 = list()\n",
    "for(i in 1:10){\n",
    "    testIndexes = which(folds==i,arr.ind=TRUE)\n",
    "    testData = myData[testIndexes, ]\n",
    "    trainData = myData[-testIndexes, ]\n",
    "    model1 = lm(close~., data = trainData)\n",
    "    model2 = lm(close~low+high, data = trainData)\n",
    "    pred1 = predict(model1, testData)\n",
    "    pred2 = predict(model2, testData)\n",
    "    SSE1[i] = sum((testData['close'] - pred1)^2)\n",
    "    SSE2[i] = sum((testData['close'] - pred2)^2)\n",
    "}"
   ]
  },
  {
   "cell_type": "code",
   "execution_count": 32,
   "metadata": {},
   "outputs": [
    {
     "data": {
      "text/html": [
       "<table>\n",
       "<thead><tr><th scope=col></th><th scope=col>SSE1</th><th scope=col>SSE2</th></tr></thead>\n",
       "<tbody>\n",
       "\t<tr><td>1       </td><td>11.97306</td><td>18.6912 </td></tr>\n",
       "\t<tr><td>2       </td><td>16.1089 </td><td>26.16441</td></tr>\n",
       "\t<tr><td>3       </td><td>12.28025</td><td>22.45626</td></tr>\n",
       "\t<tr><td>4       </td><td>10.09211</td><td>14.58605</td></tr>\n",
       "\t<tr><td>5       </td><td>13.01435</td><td>15.18516</td></tr>\n",
       "\t<tr><td>6       </td><td>11.1481 </td><td>19.22616</td></tr>\n",
       "\t<tr><td>7       </td><td>14.47119</td><td>20.80631</td></tr>\n",
       "\t<tr><td>8       </td><td>11.71394</td><td>15.79507</td></tr>\n",
       "\t<tr><td>9       </td><td>14.75319</td><td>19.4908 </td></tr>\n",
       "\t<tr><td>10      </td><td>10.26694</td><td>15.91359</td></tr>\n",
       "</tbody>\n",
       "</table>\n"
      ],
      "text/latex": [
       "\\begin{tabular}{lll}\n",
       "  & SSE1 & SSE2\\\\\n",
       "\\hline\n",
       "\t 1        & 11.97306 & 18.6912 \\\\\n",
       "\t 2        & 16.1089  & 26.16441\\\\\n",
       "\t 3        & 12.28025 & 22.45626\\\\\n",
       "\t 4        & 10.09211 & 14.58605\\\\\n",
       "\t 5        & 13.01435 & 15.18516\\\\\n",
       "\t 6        & 11.1481  & 19.22616\\\\\n",
       "\t 7        & 14.47119 & 20.80631\\\\\n",
       "\t 8        & 11.71394 & 15.79507\\\\\n",
       "\t 9        & 14.75319 & 19.4908 \\\\\n",
       "\t 10       & 10.26694 & 15.91359\\\\\n",
       "\\end{tabular}\n"
      ],
      "text/markdown": [
       "\n",
       "|  | SSE1 | SSE2 |\n",
       "|---|---|---|\n",
       "| 1        | 11.97306 | 18.6912  |\n",
       "| 2        | 16.1089  | 26.16441 |\n",
       "| 3        | 12.28025 | 22.45626 |\n",
       "| 4        | 10.09211 | 14.58605 |\n",
       "| 5        | 13.01435 | 15.18516 |\n",
       "| 6        | 11.1481  | 19.22616 |\n",
       "| 7        | 14.47119 | 20.80631 |\n",
       "| 8        | 11.71394 | 15.79507 |\n",
       "| 9        | 14.75319 | 19.4908  |\n",
       "| 10       | 10.26694 | 15.91359 |\n",
       "\n"
      ],
      "text/plain": [
       "         SSE1     SSE2    \n",
       " [1,] 1  11.97306 18.6912 \n",
       " [2,] 2  16.1089  26.16441\n",
       " [3,] 3  12.28025 22.45626\n",
       " [4,] 4  10.09211 14.58605\n",
       " [5,] 5  13.01435 15.18516\n",
       " [6,] 6  11.1481  19.22616\n",
       " [7,] 7  14.47119 20.80631\n",
       " [8,] 8  11.71394 15.79507\n",
       " [9,] 9  14.75319 19.4908 \n",
       "[10,] 10 10.26694 15.91359"
      ]
     },
     "metadata": {},
     "output_type": "display_data"
    }
   ],
   "source": [
    "SSETable = cbind(c(1:10), SSE1, SSE2)\n",
    "SSETable"
   ]
  },
  {
   "cell_type": "code",
   "execution_count": 33,
   "metadata": {},
   "outputs": [
    {
     "data": {
      "text/html": [
       "125.822024169782"
      ],
      "text/latex": [
       "125.822024169782"
      ],
      "text/markdown": [
       "125.822024169782"
      ],
      "text/plain": [
       "[1] 125.822"
      ]
     },
     "metadata": {},
     "output_type": "display_data"
    },
    {
     "data": {
      "text/html": [
       "188.315012842863"
      ],
      "text/latex": [
       "188.315012842863"
      ],
      "text/markdown": [
       "188.315012842863"
      ],
      "text/plain": [
       "[1] 188.315"
      ]
     },
     "metadata": {},
     "output_type": "display_data"
    }
   ],
   "source": [
    "SSECV1 = Reduce(\"+\", SSE1)\n",
    "SSECV2 = Reduce(\"+\", SSE2)\n",
    "SSECV1\n",
    "SSECV2"
   ]
  },
  {
   "cell_type": "code",
   "execution_count": 34,
   "metadata": {},
   "outputs": [
    {
     "data": {
      "text/plain": [
       "\n",
       "Call:\n",
       "lm(formula = close ~ ., data = trainData)\n",
       "\n",
       "Residuals:\n",
       "    Min      1Q  Median      3Q     Max \n",
       "-1.2904 -0.1206 -0.0013  0.1216  1.6189 \n",
       "\n",
       "Coefficients:\n",
       "            Estimate Std. Error t value Pr(>|t|)    \n",
       "(Intercept) -0.02722    0.01269  -2.145   0.0321 *  \n",
       "open        -0.56619    0.02020 -28.032   <2e-16 ***\n",
       "low          0.71400    0.01753  40.726   <2e-16 ***\n",
       "high         0.85101    0.01969  43.210   <2e-16 ***\n",
       "---\n",
       "Signif. codes:  0 '***' 0.001 '**' 0.01 '*' 0.05 '.' 0.1 ' ' 1\n",
       "\n",
       "Residual standard error: 0.2676 on 1581 degrees of freedom\n",
       "Multiple R-squared:  0.9997,\tAdjusted R-squared:  0.9997 \n",
       "F-statistic: 1.776e+06 on 3 and 1581 DF,  p-value: < 2.2e-16\n"
      ]
     },
     "metadata": {},
     "output_type": "display_data"
    }
   ],
   "source": [
    "summary(model1)"
   ]
  },
  {
   "cell_type": "code",
   "execution_count": 35,
   "metadata": {},
   "outputs": [
    {
     "data": {
      "text/plain": [
       "\n",
       "Call:\n",
       "lm(formula = close ~ low + high, data = trainData)\n",
       "\n",
       "Residuals:\n",
       "     Min       1Q   Median       3Q      Max \n",
       "-2.22458 -0.15488 -0.00296  0.15937  1.35488 \n",
       "\n",
       "Coefficients:\n",
       "            Estimate Std. Error t value Pr(>|t|)    \n",
       "(Intercept) -0.01039    0.01550   -0.67    0.503    \n",
       "low          0.49646    0.01923   25.82   <2e-16 ***\n",
       "high         0.50383    0.01873   26.90   <2e-16 ***\n",
       "---\n",
       "Signif. codes:  0 '***' 0.001 '**' 0.01 '*' 0.05 '.' 0.1 ' ' 1\n",
       "\n",
       "Residual standard error: 0.3274 on 1582 degrees of freedom\n",
       "Multiple R-squared:  0.9996,\tAdjusted R-squared:  0.9996 \n",
       "F-statistic: 1.78e+06 on 2 and 1582 DF,  p-value: < 2.2e-16\n"
      ]
     },
     "metadata": {},
     "output_type": "display_data"
    }
   ],
   "source": [
    "summary(model2)"
   ]
  },
  {
   "cell_type": "code",
   "execution_count": null,
   "metadata": {},
   "outputs": [],
   "source": []
  }
 ],
 "metadata": {
  "kernelspec": {
   "display_name": "R",
   "language": "R",
   "name": "ir"
  },
  "language_info": {
   "codemirror_mode": "r",
   "file_extension": ".r",
   "mimetype": "text/x-r-source",
   "name": "R",
   "pygments_lexer": "r",
   "version": "3.6.1"
  }
 },
 "nbformat": 4,
 "nbformat_minor": 2
}
